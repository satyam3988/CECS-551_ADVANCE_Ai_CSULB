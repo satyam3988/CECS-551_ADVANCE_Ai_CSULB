{
  "nbformat": 4,
  "nbformat_minor": 0,
  "metadata": {
    "colab": {
      "provenance": []
    },
    "kernelspec": {
      "name": "python3",
      "display_name": "Python 3"
    },
    "language_info": {
      "name": "python"
    },
    "accelerator": "GPU",
    "gpuClass": "standard"
  },
  "cells": [
    {
      "cell_type": "code",
      "execution_count": 54,
      "metadata": {
        "id": "XMs9GzBQLtEN"
      },
      "outputs": [],
      "source": [
        "import numpy as np\n",
        "from tensorflow.keras.utils import to_categorical\n",
        "from sklearn.model_selection import train_test_split\n",
        "import numpy as np\n",
        "from tensorflow.keras import Sequential\n",
        "from tensorflow.keras.layers import LSTM, RepeatVector, Dense\n",
        "from tensorflow.keras.optimizers import Adam\n",
        "from tensorflow.keras.callbacks import LearningRateScheduler\n",
        "import matplotlib.pyplot as plt"
      ]
    },
    {
      "cell_type": "markdown",
      "source": [
        "**\n",
        "Here first the data is created by looping it with n^3 complextiy then ouput is created and in both padding is done . 5 on input layer and 4 in ouput layer .\n",
        "Afther this One hot encoding is done for feeding it to the lstm network.\n",
        "FOr the reversed architecutre a variable i will do it since i have made appropriate changes in the code regarding i to get the reverd part as you can see the code .\n",
        "In the end the ouput is presented by plotting the accuracy vs epochs for both normal and reversed**\n"
      ],
      "metadata": {
        "id": "6LRDQ0784Hbq"
      }
    },
    {
      "cell_type": "code",
      "source": [
        "from scipy.linalg.matfuncs import svd\n",
        "class Lstm:\n",
        "  def __init__(self,i):\n",
        "    self.x = range(0,100)\n",
        "    self.y = range(0,100)\n",
        "    self.z=['+','-']\n",
        "    self.data_combined=[]\n",
        "    self.data_output = []\n",
        "    self.Query_x=[]\n",
        "    self.reverse_query_x = []\n",
        "    self.Query_y=[]\n",
        "    self.one_hot_x=[]\n",
        "    self.one_hot_y=[]\n",
        "    self.i=i\n",
        "    self.xp=i\n",
        "    self.map = {'0':0,'1':1,'2':2,'3':3,'4':4,'5':5,'6':6,'7':7,'8':8,'9':9,'+':10,'-':11,' ':12}\n",
        "  def datacreation(self):\n",
        "    temp=[]\n",
        "    rev=[]\n",
        "    for i in self.x:\n",
        "      for j in self.z:\n",
        "        for k in self.y:\n",
        "          cv = str(i)+j+str(k)\n",
        "          n=(len(cv))\n",
        "          cv=cv.ljust(5)\n",
        "          if(self.xp==1):\n",
        "            sv=cv[::-1]\n",
        "            rev.append(sv)\n",
        "            self.reverse_query_x.append(rev)\n",
        "          temp.append(cv)\n",
        "          self.data_combined.append(temp)\n",
        "          temp=[]\n",
        "          rev=[]\n",
        "    self.Query_x=self.data_combined\n",
        "    if(self.xp==1):\n",
        "      self.Query_x=self.reverse_query_x\n",
        "  def dataoutput(self):\n",
        "    for i in self.data_combined:\n",
        "      o = eval(i[0])\n",
        "      if(o>=0):\n",
        "        tem = \"+\"+str(o)\n",
        "      else:\n",
        "        tem = str(o)\n",
        "      tem = tem.ljust(4)\n",
        "      if(self.xp==1):\n",
        "        tem=tem[::-1]\n",
        "      self.data_output.append(tem)\n",
        "    self.Query_y=self.data_output\n",
        "  def one_hot(self):\n",
        "    for i in self.Query_x:\n",
        "      mm=[]\n",
        "      for xx in i[0]:\n",
        "        z=[0,0,0,0,0,0,0,0,0,0,0,0,0]\n",
        "        z[self.map[xx]]=1\n",
        "        mm.append(z)\n",
        "      self.one_hot_x.append(mm)\n",
        "    for i in self.Query_y:\n",
        "      mm=[]\n",
        "      for xx in i:\n",
        "        z=[0,0,0,0,0,0,0,0,0,0,0,0,0]\n",
        "        z[self.map[xx]]=1\n",
        "        mm.append(z)\n",
        "      self.one_hot_y.append(mm)\n",
        "    self.one_hot_x=np.array(self.one_hot_x)\n",
        "    self.one_hot_y=np.array(self.one_hot_y)\n",
        "  def model(self):\n",
        "    x_train, x_test, y_train, y_test = train_test_split(self.one_hot_x, self.one_hot_y, train_size=0.7,shuffle=True)\n",
        "    x_val,x_test,y_val,y_test = train_test_split(x_test,y_test, train_size=0.5)\n",
        "    model = Sequential()\n",
        "    model.add(LSTM(256, input_shape=(5, 13), return_sequences=False))\n",
        "    model.add(RepeatVector(4))\n",
        "    model.add(LSTM(128, return_sequences=True))\n",
        "    model.add(Dense(13, activation=\"softmax\"))\n",
        "    model.compile(optimizer=Adam(learning_rate=0.001),loss=\"categorical_crossentropy\",metrics=[\"accuracy\"])\n",
        "    result = model.fit(x_train,y_train,validation_data=(x_val, y_val),epochs=70,batch_size=32)\n",
        "    evaluation_result = model.evaluate(x_test,y_test)\n",
        "    print(\"Loss: %.4f \\nAccuracy: %.4f\" % (evaluation_result[0],evaluation_result [1]))\n",
        "    return result\n",
        "  def graph(self,resultone,resultwo):\n",
        "    modelone = resultone.history['val_accuracy']\n",
        "    modeltwo = resultwo.history['val_accuracy']\n",
        "    x_len = len(modelone)\n",
        "    epochs = range(x_len)\n",
        "    plt.plot(epochs, modelone, linestyle = 'dotted',label = 'normal_data')\n",
        "    plt.plot(epochs, modeltwo, linestyle = 'dotted',label = 'reversed_data')\n",
        "    plt.xlabel('number of epochs')\n",
        "    plt.ylabel('accuracy of model')\n",
        "    plt.legend()\n",
        "    plt.show()"
      ],
      "metadata": {
        "id": "yJa4U-CNOuzV"
      },
      "execution_count": 68,
      "outputs": []
    },
    {
      "cell_type": "code",
      "source": [
        "a = Lstm(0)"
      ],
      "metadata": {
        "id": "nM67F_qXWxY0"
      },
      "execution_count": 69,
      "outputs": []
    },
    {
      "cell_type": "code",
      "source": [
        "a.datacreation()"
      ],
      "metadata": {
        "id": "gnpNTifmX6LX"
      },
      "execution_count": 70,
      "outputs": []
    },
    {
      "cell_type": "code",
      "source": [
        "a.dataoutput()"
      ],
      "metadata": {
        "id": "g2X2x9HJYFLn"
      },
      "execution_count": 71,
      "outputs": []
    },
    {
      "cell_type": "code",
      "source": [
        "a.one_hot()"
      ],
      "metadata": {
        "id": "opuvcyV_YLaT"
      },
      "execution_count": 72,
      "outputs": []
    },
    {
      "cell_type": "code",
      "source": [
        "model_a=a.model()"
      ],
      "metadata": {
        "id": "tNVRGk_rYY__",
        "colab": {
          "base_uri": "https://localhost:8080/"
        },
        "outputId": "679772ec-a7e7-460f-cc75-2f620ee1cfb2"
      },
      "execution_count": 73,
      "outputs": [
        {
          "output_type": "stream",
          "name": "stdout",
          "text": [
            "Epoch 1/70\n",
            "438/438 [==============================] - 7s 9ms/step - loss: 1.4427 - accuracy: 0.4979 - val_loss: 1.2956 - val_accuracy: 0.5237\n",
            "Epoch 2/70\n",
            "438/438 [==============================] - 3s 7ms/step - loss: 1.1085 - accuracy: 0.5973 - val_loss: 0.9987 - val_accuracy: 0.6457\n",
            "Epoch 3/70\n",
            "438/438 [==============================] - 3s 8ms/step - loss: 0.9837 - accuracy: 0.6457 - val_loss: 0.9326 - val_accuracy: 0.6722\n",
            "Epoch 4/70\n",
            "438/438 [==============================] - 3s 8ms/step - loss: 0.9128 - accuracy: 0.6703 - val_loss: 0.8857 - val_accuracy: 0.6675\n",
            "Epoch 5/70\n",
            "438/438 [==============================] - 3s 8ms/step - loss: 0.8620 - accuracy: 0.6845 - val_loss: 0.8368 - val_accuracy: 0.7004\n",
            "Epoch 6/70\n",
            "438/438 [==============================] - 3s 7ms/step - loss: 0.8155 - accuracy: 0.7022 - val_loss: 0.7974 - val_accuracy: 0.7055\n",
            "Epoch 7/70\n",
            "438/438 [==============================] - 3s 7ms/step - loss: 0.7771 - accuracy: 0.7157 - val_loss: 0.7781 - val_accuracy: 0.7136\n",
            "Epoch 8/70\n",
            "438/438 [==============================] - 4s 8ms/step - loss: 0.7503 - accuracy: 0.7228 - val_loss: 0.7564 - val_accuracy: 0.7193\n",
            "Epoch 9/70\n",
            "438/438 [==============================] - 3s 8ms/step - loss: 0.7182 - accuracy: 0.7351 - val_loss: 0.7037 - val_accuracy: 0.7408\n",
            "Epoch 10/70\n",
            "438/438 [==============================] - 3s 8ms/step - loss: 0.6973 - accuracy: 0.7424 - val_loss: 0.7404 - val_accuracy: 0.7200\n",
            "Epoch 11/70\n",
            "438/438 [==============================] - 3s 7ms/step - loss: 0.6668 - accuracy: 0.7534 - val_loss: 0.6582 - val_accuracy: 0.7522\n",
            "Epoch 12/70\n",
            "438/438 [==============================] - 3s 7ms/step - loss: 0.6341 - accuracy: 0.7642 - val_loss: 0.6387 - val_accuracy: 0.7598\n",
            "Epoch 13/70\n",
            "438/438 [==============================] - 3s 7ms/step - loss: 0.5838 - accuracy: 0.7845 - val_loss: 0.5571 - val_accuracy: 0.7937\n",
            "Epoch 14/70\n",
            "438/438 [==============================] - 3s 7ms/step - loss: 0.5291 - accuracy: 0.8084 - val_loss: 0.4972 - val_accuracy: 0.8208\n",
            "Epoch 15/70\n",
            "438/438 [==============================] - 3s 8ms/step - loss: 0.4785 - accuracy: 0.8293 - val_loss: 0.4500 - val_accuracy: 0.8394\n",
            "Epoch 16/70\n",
            "438/438 [==============================] - 3s 7ms/step - loss: 0.3973 - accuracy: 0.8633 - val_loss: 0.3837 - val_accuracy: 0.8710\n",
            "Epoch 17/70\n",
            "438/438 [==============================] - 3s 7ms/step - loss: 0.3229 - accuracy: 0.8928 - val_loss: 0.3071 - val_accuracy: 0.8898\n",
            "Epoch 18/70\n",
            "438/438 [==============================] - 3s 7ms/step - loss: 0.2639 - accuracy: 0.9171 - val_loss: 0.2520 - val_accuracy: 0.9192\n",
            "Epoch 19/70\n",
            "438/438 [==============================] - 3s 7ms/step - loss: 0.2113 - accuracy: 0.9422 - val_loss: 0.2190 - val_accuracy: 0.9352\n",
            "Epoch 20/70\n",
            "438/438 [==============================] - 3s 7ms/step - loss: 0.1861 - accuracy: 0.9512 - val_loss: 0.1998 - val_accuracy: 0.9382\n",
            "Epoch 21/70\n",
            "438/438 [==============================] - 3s 7ms/step - loss: 0.1405 - accuracy: 0.9677 - val_loss: 0.1398 - val_accuracy: 0.9643\n",
            "Epoch 22/70\n",
            "438/438 [==============================] - 3s 7ms/step - loss: 0.1165 - accuracy: 0.9727 - val_loss: 0.1356 - val_accuracy: 0.9614\n",
            "Epoch 23/70\n",
            "438/438 [==============================] - 3s 8ms/step - loss: 0.1106 - accuracy: 0.9743 - val_loss: 0.0921 - val_accuracy: 0.9786\n",
            "Epoch 24/70\n",
            "438/438 [==============================] - 3s 8ms/step - loss: 0.0781 - accuracy: 0.9842 - val_loss: 0.0858 - val_accuracy: 0.9795\n",
            "Epoch 25/70\n",
            "438/438 [==============================] - 4s 8ms/step - loss: 0.0711 - accuracy: 0.9844 - val_loss: 0.0753 - val_accuracy: 0.9786\n",
            "Epoch 26/70\n",
            "438/438 [==============================] - 3s 8ms/step - loss: 0.0961 - accuracy: 0.9739 - val_loss: 0.0715 - val_accuracy: 0.9830\n",
            "Epoch 27/70\n",
            "438/438 [==============================] - 3s 8ms/step - loss: 0.0442 - accuracy: 0.9929 - val_loss: 0.0710 - val_accuracy: 0.9799\n",
            "Epoch 28/70\n",
            "438/438 [==============================] - 4s 8ms/step - loss: 0.0412 - accuracy: 0.9925 - val_loss: 0.0504 - val_accuracy: 0.9874\n",
            "Epoch 29/70\n",
            "438/438 [==============================] - 3s 8ms/step - loss: 0.0653 - accuracy: 0.9824 - val_loss: 0.0458 - val_accuracy: 0.9901\n",
            "Epoch 30/70\n",
            "438/438 [==============================] - 3s 7ms/step - loss: 0.0334 - accuracy: 0.9939 - val_loss: 0.0318 - val_accuracy: 0.9937\n",
            "Epoch 31/70\n",
            "438/438 [==============================] - 3s 7ms/step - loss: 0.0336 - accuracy: 0.9930 - val_loss: 0.0969 - val_accuracy: 0.9655\n",
            "Epoch 32/70\n",
            "438/438 [==============================] - 3s 7ms/step - loss: 0.0493 - accuracy: 0.9872 - val_loss: 0.0280 - val_accuracy: 0.9952\n",
            "Epoch 33/70\n",
            "438/438 [==============================] - 3s 7ms/step - loss: 0.0289 - accuracy: 0.9939 - val_loss: 0.0723 - val_accuracy: 0.9754\n",
            "Epoch 34/70\n",
            "438/438 [==============================] - 4s 8ms/step - loss: 0.0406 - accuracy: 0.9889 - val_loss: 0.0311 - val_accuracy: 0.9921\n",
            "Epoch 35/70\n",
            "438/438 [==============================] - 4s 8ms/step - loss: 0.0203 - accuracy: 0.9964 - val_loss: 0.0205 - val_accuracy: 0.9962\n",
            "Epoch 36/70\n",
            "438/438 [==============================] - 3s 7ms/step - loss: 0.0674 - accuracy: 0.9804 - val_loss: 0.0538 - val_accuracy: 0.9830\n",
            "Epoch 37/70\n",
            "438/438 [==============================] - 4s 8ms/step - loss: 0.0146 - accuracy: 0.9981 - val_loss: 0.0134 - val_accuracy: 0.9981\n",
            "Epoch 38/70\n",
            "438/438 [==============================] - 3s 8ms/step - loss: 0.0231 - accuracy: 0.9946 - val_loss: 0.0977 - val_accuracy: 0.9702\n",
            "Epoch 39/70\n",
            "438/438 [==============================] - 3s 7ms/step - loss: 0.0346 - accuracy: 0.9902 - val_loss: 0.0140 - val_accuracy: 0.9975\n",
            "Epoch 40/70\n",
            "438/438 [==============================] - 3s 7ms/step - loss: 0.0065 - accuracy: 0.9998 - val_loss: 0.0116 - val_accuracy: 0.9975\n",
            "Epoch 41/70\n",
            "438/438 [==============================] - 3s 7ms/step - loss: 0.0459 - accuracy: 0.9865 - val_loss: 0.1160 - val_accuracy: 0.9619\n",
            "Epoch 42/70\n",
            "438/438 [==============================] - 4s 8ms/step - loss: 0.0327 - accuracy: 0.9915 - val_loss: 0.0107 - val_accuracy: 0.9984\n",
            "Epoch 43/70\n",
            "438/438 [==============================] - 4s 8ms/step - loss: 0.0055 - accuracy: 0.9999 - val_loss: 0.0083 - val_accuracy: 0.9985\n",
            "Epoch 44/70\n",
            "438/438 [==============================] - 3s 7ms/step - loss: 0.0071 - accuracy: 0.9990 - val_loss: 0.0488 - val_accuracy: 0.9845\n",
            "Epoch 45/70\n",
            "438/438 [==============================] - 4s 8ms/step - loss: 0.0549 - accuracy: 0.9836 - val_loss: 0.0244 - val_accuracy: 0.9931\n",
            "Epoch 46/70\n",
            "438/438 [==============================] - 4s 8ms/step - loss: 0.0087 - accuracy: 0.9986 - val_loss: 0.0076 - val_accuracy: 0.9985\n",
            "Epoch 47/70\n",
            "438/438 [==============================] - 3s 8ms/step - loss: 0.0037 - accuracy: 0.9999 - val_loss: 0.0063 - val_accuracy: 0.9989\n",
            "Epoch 48/70\n",
            "438/438 [==============================] - 3s 7ms/step - loss: 0.0603 - accuracy: 0.9815 - val_loss: 0.0445 - val_accuracy: 0.9863\n",
            "Epoch 49/70\n",
            "438/438 [==============================] - 3s 8ms/step - loss: 0.0101 - accuracy: 0.9984 - val_loss: 0.0111 - val_accuracy: 0.9977\n",
            "Epoch 50/70\n",
            "438/438 [==============================] - 3s 7ms/step - loss: 0.0038 - accuracy: 0.9999 - val_loss: 0.0068 - val_accuracy: 0.9987\n",
            "Epoch 51/70\n",
            "438/438 [==============================] - 3s 7ms/step - loss: 0.0026 - accuracy: 1.0000 - val_loss: 0.0053 - val_accuracy: 0.9990\n",
            "Epoch 52/70\n",
            "438/438 [==============================] - 3s 7ms/step - loss: 0.0030 - accuracy: 0.9998 - val_loss: 0.0435 - val_accuracy: 0.9851\n",
            "Epoch 53/70\n",
            "438/438 [==============================] - 3s 7ms/step - loss: 0.0699 - accuracy: 0.9785 - val_loss: 0.0236 - val_accuracy: 0.9935\n",
            "Epoch 54/70\n",
            "438/438 [==============================] - 3s 7ms/step - loss: 0.0099 - accuracy: 0.9977 - val_loss: 0.0099 - val_accuracy: 0.9980\n",
            "Epoch 55/70\n",
            "438/438 [==============================] - 3s 7ms/step - loss: 0.0032 - accuracy: 0.9998 - val_loss: 0.0060 - val_accuracy: 0.9988\n",
            "Epoch 56/70\n",
            "438/438 [==============================] - 3s 7ms/step - loss: 0.0278 - accuracy: 0.9914 - val_loss: 0.0605 - val_accuracy: 0.9787\n",
            "Epoch 57/70\n",
            "438/438 [==============================] - 3s 8ms/step - loss: 0.0334 - accuracy: 0.9905 - val_loss: 0.0112 - val_accuracy: 0.9973\n",
            "Epoch 58/70\n",
            "438/438 [==============================] - 3s 7ms/step - loss: 0.0042 - accuracy: 0.9996 - val_loss: 0.0060 - val_accuracy: 0.9987\n",
            "Epoch 59/70\n",
            "438/438 [==============================] - 3s 8ms/step - loss: 0.0019 - accuracy: 1.0000 - val_loss: 0.0044 - val_accuracy: 0.9992\n",
            "Epoch 60/70\n",
            "438/438 [==============================] - 3s 8ms/step - loss: 0.0016 - accuracy: 1.0000 - val_loss: 0.0041 - val_accuracy: 0.9992\n",
            "Epoch 61/70\n",
            "438/438 [==============================] - 4s 8ms/step - loss: 0.0014 - accuracy: 1.0000 - val_loss: 0.0038 - val_accuracy: 0.9995\n",
            "Epoch 62/70\n",
            "438/438 [==============================] - 3s 7ms/step - loss: 0.0013 - accuracy: 1.0000 - val_loss: 0.0053 - val_accuracy: 0.9989\n",
            "Epoch 63/70\n",
            "438/438 [==============================] - 4s 8ms/step - loss: 0.0716 - accuracy: 0.9791 - val_loss: 0.0188 - val_accuracy: 0.9945\n",
            "Epoch 64/70\n",
            "438/438 [==============================] - 3s 7ms/step - loss: 0.0054 - accuracy: 0.9993 - val_loss: 0.0061 - val_accuracy: 0.9987\n",
            "Epoch 65/70\n",
            "438/438 [==============================] - 3s 7ms/step - loss: 0.0268 - accuracy: 0.9919 - val_loss: 0.0300 - val_accuracy: 0.9898\n",
            "Epoch 66/70\n",
            "438/438 [==============================] - 3s 7ms/step - loss: 0.0113 - accuracy: 0.9972 - val_loss: 0.0059 - val_accuracy: 0.9987\n",
            "Epoch 67/70\n",
            "438/438 [==============================] - 3s 8ms/step - loss: 0.0018 - accuracy: 1.0000 - val_loss: 0.0035 - val_accuracy: 0.9995\n",
            "Epoch 68/70\n",
            "438/438 [==============================] - 3s 7ms/step - loss: 0.0013 - accuracy: 1.0000 - val_loss: 0.0029 - val_accuracy: 0.9994\n",
            "Epoch 69/70\n",
            "438/438 [==============================] - 4s 8ms/step - loss: 0.0011 - accuracy: 1.0000 - val_loss: 0.0027 - val_accuracy: 0.9995\n",
            "Epoch 70/70\n",
            "438/438 [==============================] - 3s 7ms/step - loss: 9.2576e-04 - accuracy: 1.0000 - val_loss: 0.0025 - val_accuracy: 0.9995\n",
            "94/94 [==============================] - 0s 4ms/step - loss: 0.0036 - accuracy: 0.9995\n",
            "Loss: 0.0036 \n",
            "Accuracy: 0.9995\n"
          ]
        }
      ]
    },
    {
      "cell_type": "code",
      "source": [
        "a.one_hot_x[0]"
      ],
      "metadata": {
        "colab": {
          "base_uri": "https://localhost:8080/"
        },
        "id": "Cc6XA_hs0V-M",
        "outputId": "8e790dc0-56c8-41ef-942b-8e5dfddad6a4"
      },
      "execution_count": 74,
      "outputs": [
        {
          "output_type": "execute_result",
          "data": {
            "text/plain": [
              "array([[1, 0, 0, 0, 0, 0, 0, 0, 0, 0, 0, 0, 0],\n",
              "       [0, 0, 0, 0, 0, 0, 0, 0, 0, 0, 1, 0, 0],\n",
              "       [1, 0, 0, 0, 0, 0, 0, 0, 0, 0, 0, 0, 0],\n",
              "       [0, 0, 0, 0, 0, 0, 0, 0, 0, 0, 0, 0, 1],\n",
              "       [0, 0, 0, 0, 0, 0, 0, 0, 0, 0, 0, 0, 1]])"
            ]
          },
          "metadata": {},
          "execution_count": 74
        }
      ]
    },
    {
      "cell_type": "code",
      "source": [
        "b = Lstm(1)"
      ],
      "metadata": {
        "id": "LFyvo_mZUG0R"
      },
      "execution_count": 75,
      "outputs": []
    },
    {
      "cell_type": "code",
      "source": [
        "b.datacreation()"
      ],
      "metadata": {
        "id": "Jskrx5gJYKW2"
      },
      "execution_count": 76,
      "outputs": []
    },
    {
      "cell_type": "code",
      "source": [
        "\n",
        "b.dataoutput()\n",
        "\n"
      ],
      "metadata": {
        "id": "fyVo3kdpWfQX"
      },
      "execution_count": 77,
      "outputs": []
    },
    {
      "cell_type": "code",
      "source": [
        "b.one_hot()\n",
        "  "
      ],
      "metadata": {
        "id": "l1SVg4rkWkMV"
      },
      "execution_count": 78,
      "outputs": []
    },
    {
      "cell_type": "code",
      "source": [
        "model_b=b.model()"
      ],
      "metadata": {
        "colab": {
          "base_uri": "https://localhost:8080/"
        },
        "id": "UVbyx-P5YSy2",
        "outputId": "27977ed1-8462-47ed-d33b-e5c5038a4361"
      },
      "execution_count": 79,
      "outputs": [
        {
          "output_type": "stream",
          "name": "stdout",
          "text": [
            "Epoch 1/70\n",
            "438/438 [==============================] - 7s 9ms/step - loss: 1.4237 - accuracy: 0.5031 - val_loss: 1.1859 - val_accuracy: 0.5595\n",
            "Epoch 2/70\n",
            "438/438 [==============================] - 3s 7ms/step - loss: 1.0731 - accuracy: 0.6113 - val_loss: 0.9979 - val_accuracy: 0.6464\n",
            "Epoch 3/70\n",
            "438/438 [==============================] - 3s 7ms/step - loss: 0.9184 - accuracy: 0.6725 - val_loss: 0.8762 - val_accuracy: 0.6783\n",
            "Epoch 4/70\n",
            "438/438 [==============================] - 4s 8ms/step - loss: 0.8225 - accuracy: 0.7050 - val_loss: 0.8092 - val_accuracy: 0.7054\n",
            "Epoch 5/70\n",
            "438/438 [==============================] - 3s 7ms/step - loss: 0.7487 - accuracy: 0.7303 - val_loss: 0.7496 - val_accuracy: 0.7196\n",
            "Epoch 6/70\n",
            "438/438 [==============================] - 3s 7ms/step - loss: 0.6876 - accuracy: 0.7509 - val_loss: 0.6693 - val_accuracy: 0.7563\n",
            "Epoch 7/70\n",
            "438/438 [==============================] - 3s 7ms/step - loss: 0.6047 - accuracy: 0.7825 - val_loss: 0.5601 - val_accuracy: 0.8023\n",
            "Epoch 8/70\n",
            "438/438 [==============================] - 4s 8ms/step - loss: 0.4983 - accuracy: 0.8268 - val_loss: 0.4807 - val_accuracy: 0.8333\n",
            "Epoch 9/70\n",
            "438/438 [==============================] - 3s 7ms/step - loss: 0.3820 - accuracy: 0.8809 - val_loss: 0.3378 - val_accuracy: 0.8988\n",
            "Epoch 10/70\n",
            "438/438 [==============================] - 3s 7ms/step - loss: 0.3016 - accuracy: 0.9151 - val_loss: 0.2491 - val_accuracy: 0.9422\n",
            "Epoch 11/70\n",
            "438/438 [==============================] - 3s 7ms/step - loss: 0.2075 - accuracy: 0.9552 - val_loss: 0.2093 - val_accuracy: 0.9453\n",
            "Epoch 12/70\n",
            "438/438 [==============================] - 3s 7ms/step - loss: 0.1569 - accuracy: 0.9678 - val_loss: 0.1480 - val_accuracy: 0.9648\n",
            "Epoch 13/70\n",
            "438/438 [==============================] - 3s 7ms/step - loss: 0.1293 - accuracy: 0.9700 - val_loss: 0.0987 - val_accuracy: 0.9795\n",
            "Epoch 14/70\n",
            "438/438 [==============================] - 3s 7ms/step - loss: 0.0922 - accuracy: 0.9785 - val_loss: 0.1179 - val_accuracy: 0.9657\n",
            "Epoch 15/70\n",
            "438/438 [==============================] - 3s 7ms/step - loss: 0.0821 - accuracy: 0.9803 - val_loss: 0.0596 - val_accuracy: 0.9847\n",
            "Epoch 16/70\n",
            "438/438 [==============================] - 4s 8ms/step - loss: 0.0494 - accuracy: 0.9887 - val_loss: 0.0552 - val_accuracy: 0.9838\n",
            "Epoch 17/70\n",
            "438/438 [==============================] - 3s 7ms/step - loss: 0.0750 - accuracy: 0.9790 - val_loss: 0.0544 - val_accuracy: 0.9840\n",
            "Epoch 18/70\n",
            "438/438 [==============================] - 3s 7ms/step - loss: 0.0624 - accuracy: 0.9822 - val_loss: 0.0466 - val_accuracy: 0.9857\n",
            "Epoch 19/70\n",
            "438/438 [==============================] - 3s 7ms/step - loss: 0.0328 - accuracy: 0.9925 - val_loss: 0.0929 - val_accuracy: 0.9689\n",
            "Epoch 20/70\n",
            "438/438 [==============================] - 3s 7ms/step - loss: 0.0806 - accuracy: 0.9756 - val_loss: 0.0920 - val_accuracy: 0.9679\n",
            "Epoch 21/70\n",
            "438/438 [==============================] - 3s 7ms/step - loss: 0.0264 - accuracy: 0.9951 - val_loss: 0.0263 - val_accuracy: 0.9923\n",
            "Epoch 22/70\n",
            "438/438 [==============================] - 3s 8ms/step - loss: 0.0201 - accuracy: 0.9959 - val_loss: 0.0288 - val_accuracy: 0.9906\n",
            "Epoch 23/70\n",
            "438/438 [==============================] - 3s 7ms/step - loss: 0.0633 - accuracy: 0.9807 - val_loss: 0.0385 - val_accuracy: 0.9907\n",
            "Epoch 24/70\n",
            "438/438 [==============================] - 3s 7ms/step - loss: 0.0164 - accuracy: 0.9976 - val_loss: 0.0182 - val_accuracy: 0.9957\n",
            "Epoch 25/70\n",
            "438/438 [==============================] - 3s 7ms/step - loss: 0.0145 - accuracy: 0.9970 - val_loss: 0.0238 - val_accuracy: 0.9918\n",
            "Epoch 26/70\n",
            "438/438 [==============================] - 3s 7ms/step - loss: 0.0554 - accuracy: 0.9825 - val_loss: 0.0243 - val_accuracy: 0.9942\n",
            "Epoch 27/70\n",
            "438/438 [==============================] - 3s 7ms/step - loss: 0.0117 - accuracy: 0.9983 - val_loss: 0.0158 - val_accuracy: 0.9961\n",
            "Epoch 28/70\n",
            "438/438 [==============================] - 4s 8ms/step - loss: 0.0215 - accuracy: 0.9942 - val_loss: 0.0777 - val_accuracy: 0.9712\n",
            "Epoch 29/70\n",
            "438/438 [==============================] - 4s 8ms/step - loss: 0.0453 - accuracy: 0.9863 - val_loss: 0.0282 - val_accuracy: 0.9909\n",
            "Epoch 30/70\n",
            "438/438 [==============================] - 3s 8ms/step - loss: 0.0089 - accuracy: 0.9985 - val_loss: 0.0091 - val_accuracy: 0.9980\n",
            "Epoch 31/70\n",
            "438/438 [==============================] - 3s 7ms/step - loss: 0.0372 - accuracy: 0.9891 - val_loss: 0.0141 - val_accuracy: 0.9967\n",
            "Epoch 32/70\n",
            "438/438 [==============================] - 3s 7ms/step - loss: 0.0098 - accuracy: 0.9981 - val_loss: 0.0102 - val_accuracy: 0.9977\n",
            "Epoch 33/70\n",
            "438/438 [==============================] - 3s 7ms/step - loss: 0.0065 - accuracy: 0.9989 - val_loss: 0.0263 - val_accuracy: 0.9926\n",
            "Epoch 34/70\n",
            "438/438 [==============================] - 3s 7ms/step - loss: 0.0481 - accuracy: 0.9850 - val_loss: 0.0124 - val_accuracy: 0.9974\n",
            "Epoch 35/70\n",
            "438/438 [==============================] - 3s 7ms/step - loss: 0.0063 - accuracy: 0.9991 - val_loss: 0.0086 - val_accuracy: 0.9981\n",
            "Epoch 36/70\n",
            "438/438 [==============================] - 3s 8ms/step - loss: 0.0036 - accuracy: 0.9997 - val_loss: 0.0057 - val_accuracy: 0.9985\n",
            "Epoch 37/70\n",
            "438/438 [==============================] - 4s 8ms/step - loss: 0.0030 - accuracy: 0.9996 - val_loss: 0.0068 - val_accuracy: 0.9981\n",
            "Epoch 38/70\n",
            "438/438 [==============================] - 3s 7ms/step - loss: 0.0637 - accuracy: 0.9823 - val_loss: 0.0134 - val_accuracy: 0.9969\n",
            "Epoch 39/70\n",
            "438/438 [==============================] - 3s 7ms/step - loss: 0.0060 - accuracy: 0.9990 - val_loss: 0.0088 - val_accuracy: 0.9980\n",
            "Epoch 40/70\n",
            "438/438 [==============================] - 3s 7ms/step - loss: 0.0257 - accuracy: 0.9924 - val_loss: 0.1784 - val_accuracy: 0.9450\n",
            "Epoch 41/70\n",
            "438/438 [==============================] - 3s 7ms/step - loss: 0.0201 - accuracy: 0.9941 - val_loss: 0.0073 - val_accuracy: 0.9980\n",
            "Epoch 42/70\n",
            "438/438 [==============================] - 3s 7ms/step - loss: 0.0046 - accuracy: 0.9994 - val_loss: 0.0113 - val_accuracy: 0.9975\n",
            "Epoch 43/70\n",
            "438/438 [==============================] - 3s 8ms/step - loss: 0.0421 - accuracy: 0.9872 - val_loss: 0.0769 - val_accuracy: 0.9753\n",
            "Epoch 44/70\n",
            "438/438 [==============================] - 3s 7ms/step - loss: 0.0074 - accuracy: 0.9986 - val_loss: 0.0062 - val_accuracy: 0.9990\n",
            "Epoch 45/70\n",
            "438/438 [==============================] - 3s 7ms/step - loss: 0.0023 - accuracy: 0.9999 - val_loss: 0.0045 - val_accuracy: 0.9992\n",
            "Epoch 46/70\n",
            "438/438 [==============================] - 4s 8ms/step - loss: 0.0041 - accuracy: 0.9991 - val_loss: 0.0311 - val_accuracy: 0.9903\n",
            "Epoch 47/70\n",
            "438/438 [==============================] - 3s 8ms/step - loss: 0.0423 - accuracy: 0.9878 - val_loss: 0.0128 - val_accuracy: 0.9969\n",
            "Epoch 48/70\n",
            "438/438 [==============================] - 3s 8ms/step - loss: 0.0071 - accuracy: 0.9983 - val_loss: 0.0094 - val_accuracy: 0.9972\n",
            "Epoch 49/70\n",
            "438/438 [==============================] - 4s 8ms/step - loss: 0.0025 - accuracy: 0.9998 - val_loss: 0.0044 - val_accuracy: 0.9990\n",
            "Epoch 50/70\n",
            "438/438 [==============================] - 3s 8ms/step - loss: 0.0014 - accuracy: 1.0000 - val_loss: 0.0036 - val_accuracy: 0.9992\n",
            "Epoch 51/70\n",
            "438/438 [==============================] - 3s 8ms/step - loss: 0.0573 - accuracy: 0.9818 - val_loss: 0.0319 - val_accuracy: 0.9913\n",
            "Epoch 52/70\n",
            "438/438 [==============================] - 3s 7ms/step - loss: 0.0069 - accuracy: 0.9989 - val_loss: 0.0057 - val_accuracy: 0.9987\n",
            "Epoch 53/70\n",
            "438/438 [==============================] - 4s 8ms/step - loss: 0.0019 - accuracy: 1.0000 - val_loss: 0.0044 - val_accuracy: 0.9990\n",
            "Epoch 54/70\n",
            "438/438 [==============================] - 3s 7ms/step - loss: 0.0014 - accuracy: 1.0000 - val_loss: 0.0041 - val_accuracy: 0.9990\n",
            "Epoch 55/70\n",
            "438/438 [==============================] - 3s 7ms/step - loss: 0.0012 - accuracy: 0.9999 - val_loss: 0.0038 - val_accuracy: 0.9990\n",
            "Epoch 56/70\n",
            "438/438 [==============================] - 3s 7ms/step - loss: 0.0490 - accuracy: 0.9851 - val_loss: 0.0872 - val_accuracy: 0.9714\n",
            "Epoch 57/70\n",
            "438/438 [==============================] - 3s 7ms/step - loss: 0.0118 - accuracy: 0.9968 - val_loss: 0.0050 - val_accuracy: 0.9991\n",
            "Epoch 58/70\n",
            "438/438 [==============================] - 3s 7ms/step - loss: 0.0017 - accuracy: 1.0000 - val_loss: 0.0037 - val_accuracy: 0.9992\n",
            "Epoch 59/70\n",
            "438/438 [==============================] - 3s 7ms/step - loss: 0.0012 - accuracy: 1.0000 - val_loss: 0.0038 - val_accuracy: 0.9991\n",
            "Epoch 60/70\n",
            "438/438 [==============================] - 3s 7ms/step - loss: 9.7683e-04 - accuracy: 1.0000 - val_loss: 0.0034 - val_accuracy: 0.9990\n",
            "Epoch 61/70\n",
            "438/438 [==============================] - 3s 7ms/step - loss: 8.1497e-04 - accuracy: 1.0000 - val_loss: 0.0032 - val_accuracy: 0.9991\n",
            "Epoch 62/70\n",
            "438/438 [==============================] - 4s 8ms/step - loss: 0.0560 - accuracy: 0.9831 - val_loss: 0.0238 - val_accuracy: 0.9937\n",
            "Epoch 63/70\n",
            "438/438 [==============================] - 3s 7ms/step - loss: 0.0056 - accuracy: 0.9989 - val_loss: 0.0063 - val_accuracy: 0.9983\n",
            "Epoch 64/70\n",
            "438/438 [==============================] - 3s 7ms/step - loss: 0.0016 - accuracy: 1.0000 - val_loss: 0.0035 - val_accuracy: 0.9994\n",
            "Epoch 65/70\n",
            "438/438 [==============================] - 3s 7ms/step - loss: 0.0010 - accuracy: 1.0000 - val_loss: 0.0030 - val_accuracy: 0.9993\n",
            "Epoch 66/70\n",
            "438/438 [==============================] - 3s 8ms/step - loss: 8.3622e-04 - accuracy: 1.0000 - val_loss: 0.0030 - val_accuracy: 0.9992\n",
            "Epoch 67/70\n",
            "438/438 [==============================] - 3s 7ms/step - loss: 7.0905e-04 - accuracy: 1.0000 - val_loss: 0.0029 - val_accuracy: 0.9992\n",
            "Epoch 68/70\n",
            "438/438 [==============================] - 3s 8ms/step - loss: 0.0692 - accuracy: 0.9807 - val_loss: 0.0462 - val_accuracy: 0.9836\n",
            "Epoch 69/70\n",
            "438/438 [==============================] - 3s 7ms/step - loss: 0.0085 - accuracy: 0.9983 - val_loss: 0.0080 - val_accuracy: 0.9982\n",
            "Epoch 70/70\n",
            "438/438 [==============================] - 3s 8ms/step - loss: 0.0020 - accuracy: 0.9999 - val_loss: 0.0038 - val_accuracy: 0.9995\n",
            "94/94 [==============================] - 0s 4ms/step - loss: 0.0041 - accuracy: 0.9990\n",
            "Loss: 0.0041 \n",
            "Accuracy: 0.9990\n"
          ]
        }
      ]
    },
    {
      "cell_type": "code",
      "source": [
        "b.graph(model_a,model_b)"
      ],
      "metadata": {
        "colab": {
          "base_uri": "https://localhost:8080/",
          "height": 279
        },
        "id": "j4XgxIIuNU0N",
        "outputId": "cd26a3e5-52fc-4ea9-a4c2-c850285adc98"
      },
      "execution_count": 80,
      "outputs": [
        {
          "output_type": "display_data",
          "data": {
            "text/plain": [
              "<Figure size 432x288 with 1 Axes>"
            ],
            "image/png": "[encoded data removed]"
          },
          "metadata": {
            "needs_background": "light"
          }
        }
      ]
    },
    {
      "cell_type": "code",
      "source": [
        "\n",
        "b.one_hot_x[1]"
      ],
      "metadata": {
        "id": "PKrW86nuNTaH",
        "colab": {
          "base_uri": "https://localhost:8080/"
        },
        "outputId": "7a2f86f3-a3ac-4a48-cc57-c0674b7b4c8c"
      },
      "execution_count": 81,
      "outputs": [
        {
          "output_type": "execute_result",
          "data": {
            "text/plain": [
              "array([[0, 0, 0, 0, 0, 0, 0, 0, 0, 0, 0, 0, 1],\n",
              "       [0, 0, 0, 0, 0, 0, 0, 0, 0, 0, 0, 0, 1],\n",
              "       [0, 1, 0, 0, 0, 0, 0, 0, 0, 0, 0, 0, 0],\n",
              "       [0, 0, 0, 0, 0, 0, 0, 0, 0, 0, 1, 0, 0],\n",
              "       [1, 0, 0, 0, 0, 0, 0, 0, 0, 0, 0, 0, 0]])"
            ]
          },
          "metadata": {},
          "execution_count": 81
        }
      ]
    },
    {
      "cell_type": "code",
      "source": [],
      "metadata": {
        "id": "a3sBUi9Jh8Id"
      },
      "execution_count": 81,
      "outputs": []
    },
    {
      "cell_type": "markdown",
      "source": [
        "![WhatsApp Image 2022-11-20 at 8.53.48 AM.jpeg](data:image/jpeg;base64,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)"
      ],
      "metadata": {
        "id": "plrz-ylo9pd0"
      }
    },
    {
      "cell_type": "markdown",
      "source": [
        "Encoder Decoder, it is a machine learning model with two neural networks at its core.Typically, the two neural networks share a similar structure. While the second one operates backward, the first one will be utilized normally.\n",
        "A deep learning architecture called long short-term memory (LSTM) is built on an artificial recurrent neural network (RNN). For situations requiring sequences and time series, LSTMs provide a practical solution.\n",
        "The RepeatVector layer adds an extra dimension to the dataset . \n"
      ],
      "metadata": {
        "id": "CK22BsOj9kRC"
      }
    },
    {
      "cell_type": "markdown",
      "source": [],
      "metadata": {
        "id": "0I2R3rj-5AXa"
      }
    },
    {
      "cell_type": "markdown",
      "source": [
        "Here the first layer is encoder it gives ouput a vector and takes input sequence of characters while decoder gives ouput the predicted sequence and take input vector . Here repeat vector basically adds extra dimension and helps basically by repeating the incoming inputs a specific number of times"
      ],
      "metadata": {
        "id": "AhY1Sjfv_X7C"
      }
    },
    {
      "cell_type": "code",
      "source": [],
      "metadata": {
        "id": "atRarqeLibkI"
      },
      "execution_count": null,
      "outputs": []
    },
    {
      "cell_type": "code",
      "source": [],
      "metadata": {
        "id": "t5tiQy6mkkEE"
      },
      "execution_count": null,
      "outputs": []
    },
    {
      "cell_type": "code",
      "source": [],
      "metadata": {
        "id": "PIMVvx1byLtU"
      },
      "execution_count": null,
      "outputs": []
    },
    {
      "cell_type": "code",
      "source": [],
      "metadata": {
        "id": "gOuzKWgSy_MW"
      },
      "execution_count": null,
      "outputs": []
    },
    {
      "cell_type": "code",
      "source": [],
      "metadata": {
        "id": "J3fuCKeC1lNq"
      },
      "execution_count": null,
      "outputs": []
    },
    {
      "cell_type": "code",
      "source": [],
      "metadata": {
        "id": "4ZYdyijc0oYK"
      },
      "execution_count": null,
      "outputs": []
    },
    {
      "cell_type": "code",
      "source": [],
      "metadata": {
        "id": "DfDN0cCh0tQ4"
      },
      "execution_count": null,
      "outputs": []
    },
    {
      "cell_type": "code",
      "source": [],
      "metadata": {
        "id": "DCwmZ8VB0ybd"
      },
      "execution_count": null,
      "outputs": []
    },
    {
      "cell_type": "code",
      "source": [],
      "metadata": {
        "id": "3sDMwnh21A5p"
      },
      "execution_count": null,
      "outputs": []
    },
    {
      "cell_type": "code",
      "source": [],
      "metadata": {
        "id": "7IMvuX9cOnD8"
      },
      "execution_count": null,
      "outputs": []
    }
  ]
}