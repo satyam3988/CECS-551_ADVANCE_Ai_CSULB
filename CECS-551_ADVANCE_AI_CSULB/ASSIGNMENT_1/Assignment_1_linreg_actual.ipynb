{
  "cells": [
    {
      "cell_type": "code",
      "execution_count": 12,
      "metadata": {
        "colab": {
          "base_uri": "https://localhost:8080/"
        },
        "id": "dklzAjRco6Zm",
        "outputId": "c795b081-9714-4dba-943b-c3cc59a98fa3"
      },
      "outputs": [
        {
          "output_type": "stream",
          "name": "stdout",
          "text": [
            "['MedInc', 'HouseAge', 'AveRooms', 'AveBedrms', 'Population', 'AveOccup', 'Latitude', 'Longitude']\n"
          ]
        }
      ],
      "source": [
        "from sklearn.datasets import fetch_california_housing    #to get the data \n",
        "import pandas as pd\n",
        "raw = fetch_california_housing()       # function to get the data\n",
        "\n",
        "X = raw.data          #to get the input \n",
        "y = raw.target        #to ge the target \n",
        "ans = raw['feature_names']\n",
        "df = pd.DataFrame(data=raw.data, columns=raw.feature_names) # converting into data frame\n",
        "print(ans)\n",
        "# Show the+ list of feature names for the dataset"
      ]
    },
    {
      "cell_type": "code",
      "execution_count": 13,
      "metadata": {
        "colab": {
          "base_uri": "https://localhost:8080/",
          "height": 123
        },
        "id": "iY-F7zkqo6Zw",
        "outputId": "26bf8914-f080-45ea-bff3-ce5a607f9c2b"
      },
      "outputs": [
        {
          "output_type": "execute_result",
          "data": {
            "text/plain": [
              "'.. _california_housing_dataset:\\n\\nCalifornia Housing dataset\\n--------------------------\\n\\n**Data Set Characteristics:**\\n\\n    :Number of Instances: 20640\\n\\n    :Number of Attributes: 8 numeric, predictive attributes and the target\\n\\n    :Attribute Information:\\n        - MedInc        median income in block group\\n        - HouseAge      median house age in block group\\n        - AveRooms      average number of rooms per household\\n        - AveBedrms     average number of bedrooms per household\\n        - Population    block group population\\n        - AveOccup      average number of household members\\n        - Latitude      block group latitude\\n        - Longitude     block group longitude\\n\\n    :Missing Attribute Values: None\\n\\nThis dataset was obtained from the StatLib repository.\\nhttps://www.dcc.fc.up.pt/~ltorgo/Regression/cal_housing.html\\n\\nThe target variable is the median house value for California districts,\\nexpressed in hundreds of thousands of dollars ($100,000).\\n\\nThis dataset was derived from the 1990 U.S. census, using one row per census\\nblock group. A block group is the smallest geographical unit for which the U.S.\\nCensus Bureau publishes sample data (a block group typically has a population\\nof 600 to 3,000 people).\\n\\nAn household is a group of people residing within a home. Since the average\\nnumber of rooms and bedrooms in this dataset are provided per household, these\\ncolumns may take surpinsingly large values for block groups with few households\\nand many empty houses, such as vacation resorts.\\n\\nIt can be downloaded/loaded using the\\n:func:`sklearn.datasets.fetch_california_housing` function.\\n\\n.. topic:: References\\n\\n    - Pace, R. Kelley and Ronald Barry, Sparse Spatial Autoregressions,\\n      Statistics and Probability Letters, 33 (1997) 291-297\\n'"
            ],
            "application/vnd.google.colaboratory.intrinsic+json": {
              "type": "string"
            }
          },
          "metadata": {},
          "execution_count": 13
        }
      ],
      "source": [
        "# Show dataset description\n",
        "\n",
        "raw.DESCR # to descrive the raw dataset"
      ]
    },
    {
      "cell_type": "code",
      "execution_count": 14,
      "metadata": {
        "colab": {
          "base_uri": "https://localhost:8080/"
        },
        "id": "iQrnRWsQo6Zz",
        "outputId": "af636579-1cf6-4e88-866d-44a86c3e6499"
      },
      "outputs": [
        {
          "output_type": "execute_result",
          "data": {
            "text/plain": [
              "(20640, 8)"
            ]
          },
          "metadata": {},
          "execution_count": 14
        }
      ],
      "source": [
        "# Show dimension of X\n",
        "\n",
        "X.shape"
      ]
    },
    {
      "cell_type": "code",
      "execution_count": 15,
      "metadata": {
        "colab": {
          "base_uri": "https://localhost:8080/"
        },
        "id": "mPkiiw9Oo6Z2",
        "outputId": "3b13ad50-f4fb-46aa-f59b-6adc60f42beb"
      },
      "outputs": [
        {
          "output_type": "execute_result",
          "data": {
            "text/plain": [
              "(20640,)"
            ]
          },
          "metadata": {},
          "execution_count": 15
        }
      ],
      "source": [
        "# Show dimension of y\n",
        "\n",
        "y.shape"
      ]
    },
    {
      "cell_type": "code",
      "execution_count": 16,
      "metadata": {
        "id": "qbS4FAPuo6Z4"
      },
      "outputs": [],
      "source": [
        "# Split X, y into X_train, X_test, y_train, y_test with 7:3 ratio\n",
        "import sklearn.model_selection as model_selection\n",
        "X_train, X_test, y_train, y_test = model_selection.train_test_split(X, y, train_size=0.7,test_size=0.3, random_state=99)\n"
      ]
    },
    {
      "cell_type": "code",
      "source": [
        "X_train"
      ],
      "metadata": {
        "colab": {
          "base_uri": "https://localhost:8080/"
        },
        "id": "fLp4A6xyuyCr",
        "outputId": "634108bf-03a3-4c00-d3bb-3e7a93f826e3"
      },
      "execution_count": 17,
      "outputs": [
        {
          "output_type": "execute_result",
          "data": {
            "text/plain": [
              "array([[   1.1019    ,   13.        ,    4.45663265, ...,    2.00382653,\n",
              "          39.74      , -121.86      ],\n",
              "       [   4.0469    ,    6.        ,    5.96226415, ...,    2.98867925,\n",
              "          33.24      , -117.31      ],\n",
              "       [   2.8649    ,    4.        ,    4.95847751, ...,    2.26816609,\n",
              "          34.93      , -120.43      ],\n",
              "       ...,\n",
              "       [   3.2333    ,   39.        ,    5.15844156, ...,    2.7038961 ,\n",
              "          37.95      , -122.34      ],\n",
              "       [   2.3787    ,   21.        ,    4.56534091, ...,    2.36931818,\n",
              "          38.29      , -122.32      ],\n",
              "       [   1.85      ,   14.        ,    4.54121864, ...,    3.86021505,\n",
              "          36.09      , -119.56      ]])"
            ]
          },
          "metadata": {},
          "execution_count": 17
        }
      ]
    },
    {
      "cell_type": "code",
      "source": [
        "y_train"
      ],
      "metadata": {
        "colab": {
          "base_uri": "https://localhost:8080/"
        },
        "id": "9FApXKpMhvAr",
        "outputId": "7b7c6bbc-f9a7-4960-d41f-0372ff79a71d"
      },
      "execution_count": 18,
      "outputs": [
        {
          "output_type": "execute_result",
          "data": {
            "text/plain": [
              "array([1.202, 1.624, 1.865, ..., 1.351, 1.779, 0.523])"
            ]
          },
          "metadata": {},
          "execution_count": 18
        }
      ]
    },
    {
      "cell_type": "code",
      "execution_count": 19,
      "metadata": {
        "colab": {
          "base_uri": "https://localhost:8080/"
        },
        "id": "owZGyXHUo6Z6",
        "outputId": "e2859bfe-5e6c-44e2-a42e-cbbbac24c2e9"
      },
      "outputs": [
        {
          "output_type": "execute_result",
          "data": {
            "text/plain": [
              "LinearRegression()"
            ]
          },
          "metadata": {},
          "execution_count": 19
        }
      ],
      "source": [
        "# Build a linear regression model with X_train, y_train\n",
        "from sklearn.linear_model import LinearRegression\n",
        "modell = LinearRegression()\n",
        "modell.fit(X_train, y_train)"
      ]
    },
    {
      "cell_type": "code",
      "execution_count": 20,
      "metadata": {
        "id": "HJJC1EySo6Z8"
      },
      "outputs": [],
      "source": [
        "# Predict y_pred from X_test\n",
        "y_output = modell.predict(X_test)\n"
      ]
    },
    {
      "cell_type": "code",
      "execution_count": 21,
      "metadata": {
        "colab": {
          "base_uri": "https://localhost:8080/",
          "height": 282
        },
        "id": "LjtNtwP0o6Z-",
        "outputId": "ce297a51-c9ca-4cc7-f4cc-b425d665ec4b"
      },
      "outputs": [
        {
          "output_type": "execute_result",
          "data": {
            "text/plain": [
              "<matplotlib.collections.PathCollection at 0x7f78ef74dd50>"
            ]
          },
          "metadata": {},
          "execution_count": 21
        },
        {
          "output_type": "display_data",
          "data": {
            "text/plain": [
              "<Figure size 432x288 with 1 Axes>"
            ],
            "image/png": "[encoded data removed]"
          },
          "metadata": {
            "needs_background": "light"
          }
        }
      ],
      "source": [
        "# Draw scatter plots of the predicted and test value of y's\n",
        "# x-axis: y_test\n",
        "# y-axis: y_pred\n",
        "import matplotlib.pyplot as plt\n",
        "plt.scatter(y_test,y_output)\n"
      ]
    }
  ],
  "metadata": {
    "kernelspec": {
      "display_name": "Python 3 (ipykernel)",
      "language": "python",
      "name": "python3"
    },
    "language_info": {
      "codemirror_mode": {
        "name": "ipython",
        "version": 3
      },
      "file_extension": ".py",
      "mimetype": "text/x-python",
      "name": "python",
      "nbconvert_exporter": "python",
      "pygments_lexer": "ipython3",
      "version": "3.9.12"
    },
    "colab": {
      "provenance": []
    }
  },
  "nbformat": 4,
  "nbformat_minor": 0
}